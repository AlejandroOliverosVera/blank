{
  "nbformat": 4,
  "nbformat_minor": 0,
  "metadata": {
    "colab": {
      "provenance": [],
      "include_colab_link": true
    },
    "kernelspec": {
      "name": "python3",
      "display_name": "Python 3"
    },
    "language_info": {
      "name": "python"
    }
  },
  "cells": [
    {
      "cell_type": "markdown",
      "metadata": {
        "id": "view-in-github",
        "colab_type": "text"
      },
      "source": [
        "<a href=\"https://colab.research.google.com/github/AlejandroOliverosVera/blank/blob/main/FS_iCSA.ipynb\" target=\"_parent\"><img src=\"https://colab.research.google.com/assets/colab-badge.svg\" alt=\"Open In Colab\"/></a>"
      ]
    },
    {
      "cell_type": "code",
      "source": [
        "from google.colab import drive\n",
        "drive.mount('/content/drive')"
      ],
      "metadata": {
        "id": "V2h1kRyboiLm",
        "colab": {
          "base_uri": "https://localhost:8080/"
        },
        "outputId": "ef771d44-99e0-462e-8e51-b4c787d36bee"
      },
      "execution_count": 82,
      "outputs": [
        {
          "output_type": "stream",
          "name": "stdout",
          "text": [
            "Drive already mounted at /content/drive; to attempt to forcibly remount, call drive.mount(\"/content/drive\", force_remount=True).\n"
          ]
        }
      ]
    },
    {
      "cell_type": "code",
      "source": [
        "import random as rnd\n",
        "import math\n",
        "import numpy as np\n",
        "import pandas as pd\n",
        "from sklearn.metrics import f1_score\n",
        "from sklearn.model_selection import train_test_split\n",
        "from sklearn.preprocessing import StandardScaler\n",
        "from sklearn.svm import SVC\n",
        "from sklearn.metrics import accuracy_score, f1_score\n",
        "from sklearn.decomposition import PCA\n",
        "import sklearn.gaussian_process as gp\n",
        "import tensorflow as tf\n",
        "import time as tm"
      ],
      "metadata": {
        "id": "Zvc9s9ssoTFB"
      },
      "execution_count": 83,
      "outputs": []
    },
    {
      "cell_type": "code",
      "source": [
        "class ML:\n",
        "  def __init__(self):\n",
        "    # Leer el archivo CSV\n",
        "    self.data = pd.read_csv('/content/drive/MyDrive/data.csv', header = 0)\n",
        "    self.principal_components = self.find_principal_features()\n",
        "\n",
        "  def find_principal_features(self):\n",
        "    pca = PCA()\n",
        "    principal_components = pca.fit_transform(self.data)\n",
        "    explained_variance_ratio = pca.explained_variance_ratio_\n",
        "\n",
        "    # Calculate the cumulative explained variance ratio\n",
        "    cumulative_variance = np.cumsum(explained_variance_ratio)\n",
        "\n",
        "    # Find the number of principal components that explain 95% of the variance\n",
        "    num_components = np.argmax(cumulative_variance >= 0.95) + 1\n",
        "\n",
        "    # Get the loadings of the first num_components\n",
        "    loadings = pca.components_[:num_components]\n",
        "\n",
        "    # Create a binary vector indicating principal features\n",
        "    principal_features = np.zeros(self.data.shape[1])\n",
        "    for loading in loadings:\n",
        "        principal_features[np.abs(loading) >= 0.00001] = 1\n",
        "\n",
        "    return principal_features\n",
        "\n",
        "  def load_data(self, selected_features):\n",
        "    # Usa las caracteristicas dadas por la MH\n",
        "    all_features = list(self.data.columns)\n",
        "    selected_column_names = [all_features[i] for i in range(len(selected_features)) if (selected_features[i] == 1)]\n",
        "    return self.data[selected_column_names].values, self.data.iloc[:, -1].values.astype(float)"
      ],
      "metadata": {
        "id": "b4qKir6lokpE"
      },
      "execution_count": 84,
      "outputs": []
    },
    {
      "cell_type": "code",
      "source": [
        "class MLSVM(ML):\n",
        "  def train(self, selected_features):\n",
        "    X, y = self.load_data(selected_features)\n",
        "\n",
        "    # Dividir el conjunto de datos en conjuntos de entrenamiento y prueba\n",
        "    X_train, X_test, y_train, y_test = train_test_split(X, y, test_size = 0.2, random_state = 42)\n",
        "\n",
        "    # Normalizar características\n",
        "    scaler = StandardScaler()\n",
        "    X_train = scaler.fit_transform(X_train)\n",
        "    X_test = scaler.transform(X_test)\n",
        "\n",
        "    # Entrenar un clasificador SVM\n",
        "    svm = SVC()\n",
        "    svm.fit(X_train, y_train)\n",
        "\n",
        "    # Realizar predicciones en el conjunto de prueba\n",
        "    y_pred = svm.predict(X_test)\n",
        "\n",
        "    # Calcular las métricas de evaluación\n",
        "    accuracy = accuracy_score(y_test, y_pred)\n",
        "    f1 = f1_score(y_test, y_pred, average = 'weighted')\n",
        "\n",
        "    return [accuracy, f1]"
      ],
      "metadata": {
        "id": "hJg8JY3fpBof"
      },
      "execution_count": 85,
      "outputs": []
    },
    {
      "cell_type": "code",
      "source": [
        "class Crow:\n",
        "  def __init__(self):\n",
        "    self.dimension = 755 ## Depende del DSet\n",
        "    self.position = []\n",
        "    self.metrics = [0,0]\n",
        "    self.pBest = []\n",
        "    self.fBest = 0.0\n",
        "    for j in range(self.dimension):\n",
        "      self.position.append(rnd.randint(0,1))\n",
        "\n",
        "  def countCols(self):\n",
        "    sum = 0\n",
        "    for j in range(self.dimension):\n",
        "        sum += self.position[j]\n",
        "    return sum\n",
        "\n",
        "  def train(self, ml):\n",
        "    self.metrics = ml.train(self.position)\n",
        "\n",
        "  def is_better_than_pbest(self):\n",
        "    if self.fitness() > self.fBest:\n",
        "        self.fBest = self.fitness()\n",
        "        return True\n",
        "    else:\n",
        "        return False\n",
        "\n",
        "  def update_pbest(self):\n",
        "        self.pBest = self.position[:]\n",
        "\n",
        "  def isBetterThan(self, gBest):\n",
        "    return self.fitness() > gBest.fBest\n",
        "\n",
        "  def move(self, followed_crow: \"Crow\", AP: float, flight_length: float, ml):\n",
        "    for j in range(self.dimension):\n",
        "      if rnd.uniform(0, 1) >= AP:\n",
        "        self.position[j] = int(self.position[j] + rnd.uniform(0, 1) * flight_length * (int(followed_crow.pBest[j]) - int(self.position[j])))\n",
        "      else:\n",
        "        self.position[j] = rnd.randint(0, 1)\n",
        "    #self.position = np.logical_or(self.position, ml.principal_components)\n",
        "\n",
        "  def fitness(self):\n",
        "    z1 = self.metrics[0] # maximizar f1 score -> [0: malo, 1: bueno]\n",
        "    z2 = self.metrics[1] # maximizar acc -> [0: malo, 1: bueno]\n",
        "    z3 = self.countCols() / self.dimension # minimizar cantidad de columnas que se usan -> [0: bueno, 1: malo]\n",
        "    return z1 * 0.4 + z2 * 0.4 - z3 * 0.2 + 0.2\n",
        "\n",
        "  def copy(self, other: \"Crow\"):\n",
        "    self.position = other.position.copy()\n",
        "    self.fBest = other.fBest\n",
        "\n",
        "  #def toBinary(self, x):\n",
        "    #return 1 if rnd.uniform(0, 1) <= 1 / (1 + math.exp(-x)) else 0\n"
      ],
      "metadata": {
        "id": "LgIdYTn9pN04"
      },
      "execution_count": 86,
      "outputs": []
    },
    {
      "cell_type": "code",
      "source": [
        "class CSA:\n",
        "  def __init__(self):\n",
        "    self.T = 20 #iterMax\n",
        "    self.nCrows = 20 #flock size\n",
        "    self.AP = 0.5\n",
        "    self.flightLenght = 0.75\n",
        "    self.swarm = [] # array of Crow objects\n",
        "    self.gCrow = Crow() #Aquí se guarda el mejor cuervo\n",
        "    self.rnd = rnd\n",
        "    self.sTime = None\n",
        "    self.eTime = None\n",
        "    self.bTime = None\n",
        "\n",
        "  def execute(self, ml):\n",
        "    self.startTime()\n",
        "    self.init(ml)\n",
        "    self.run(ml)\n",
        "    self.endTime()\n",
        "    self.log()\n",
        "\n",
        "  def startTime(self):\n",
        "    self.sTime = int(round(tm.time() * 1000))\n",
        "\n",
        "  def init(self, ml):\n",
        "    for i in range(self.nCrows):\n",
        "      self.swarm.append(Crow())\n",
        "      self.swarm[i].train(ml)\n",
        "      if self.swarm[i].isBetterThan(self.gCrow):\n",
        "        self.gCrow.copy(self.swarm[i])\n",
        "      if self.swarm[i].is_better_than_pbest():\n",
        "            self.swarm[i].update_pbest()\n",
        "\n",
        "  def run(self, ml):\n",
        "    t = 1\n",
        "    while t <= self.T:\n",
        "      for i in range(self.nCrows):\n",
        "        followedCrow = self.swarm[self.rnd.randint(0, self.nCrows - 1)]\n",
        "        self.swarm[i].move(followedCrow, self.AP, self.flightLenght, ml)\n",
        "        self.swarm[i].train(ml)\n",
        "        if self.swarm[i].is_better_than_pbest():\n",
        "            self.swarm[i].update_pbest()\n",
        "        if self.swarm[i].isBetterThan(self.gCrow):\n",
        "            self.bTime = int(round(tm.time() * 1000))\n",
        "            self.gCrow.copy(self.swarm[i])\n",
        "      t += 1\n",
        "\n",
        "  def endTime(self):\n",
        "    self.eTime = int(round(tm.time() * 1000))\n",
        "\n",
        "  def log(self):\n",
        "    print(f\"Mejor fitness: {self.gCrow.fBest}, Tiempo total: {self.eTime - self.sTime}ms, Tiempo mejor Fitness: {self.bTime - self.sTime}ms\")\n"
      ],
      "metadata": {
        "id": "oWpur0xjY84g"
      },
      "execution_count": 87,
      "outputs": []
    },
    {
      "cell_type": "code",
      "execution_count": 88,
      "metadata": {
        "id": "yd5I1-D-F8nV",
        "colab": {
          "base_uri": "https://localhost:8080/"
        },
        "outputId": "8a83a1a2-df72-4875-d64d-15d341dc4f29"
      },
      "outputs": [
        {
          "output_type": "stream",
          "name": "stdout",
          "text": [
            "Mejor fitness: 0.9435992162366065, Tiempo total: 16437ms, Tiempo mejor Fitness: 11154ms\n",
            "Mejor fitness: 0.9428045142498513, Tiempo total: 15283ms, Tiempo mejor Fitness: 12333ms\n",
            "Mejor fitness: 0.9451886202101163, Tiempo total: 15883ms, Tiempo mejor Fitness: 14106ms\n",
            "Mejor fitness: 0.9412151102763415, Tiempo total: 15366ms, Tiempo mejor Fitness: 14536ms\n",
            "Mejor fitness: 0.943864116898858, Tiempo total: 15218ms, Tiempo mejor Fitness: 10565ms\n",
            "Mejor fitness: 0.9451886202101163, Tiempo total: 15070ms, Tiempo mejor Fitness: 9965ms\n",
            "Mejor fitness: 0.9446588188856131, Tiempo total: 15873ms, Tiempo mejor Fitness: 9806ms\n",
            "Mejor fitness: 0.9443939182233614, Tiempo total: 15131ms, Tiempo mejor Fitness: 5709ms\n",
            "Mejor fitness: 0.9446588188856131, Tiempo total: 15188ms, Tiempo mejor Fitness: 14789ms\n",
            "Mejor fitness: 0.9449237195478646, Tiempo total: 15201ms, Tiempo mejor Fitness: 6784ms\n",
            "Mejor fitness: 0.9422747129253481, Tiempo total: 15200ms, Tiempo mejor Fitness: 12243ms\n",
            "Mejor fitness: 0.9422747129253481, Tiempo total: 15879ms, Tiempo mejor Fitness: 9507ms\n",
            "Mejor fitness: 0.9433343155743548, Tiempo total: 16092ms, Tiempo mejor Fitness: 3671ms\n",
            "Mejor fitness: 0.9422747129253481, Tiempo total: 15176ms, Tiempo mejor Fitness: 4939ms\n",
            "Mejor fitness: 0.9451886202101163, Tiempo total: 15076ms, Tiempo mejor Fitness: 11021ms\n",
            "Mejor fitness: 0.9433343155743548, Tiempo total: 15285ms, Tiempo mejor Fitness: 13492ms\n",
            "Mejor fitness: 0.9428045142498513, Tiempo total: 15903ms, Tiempo mejor Fitness: 8030ms\n",
            "Mejor fitness: 0.9425396135875999, Tiempo total: 15127ms, Tiempo mejor Fitness: 4057ms\n",
            "Mejor fitness: 0.9420098122630964, Tiempo total: 15073ms, Tiempo mejor Fitness: 6776ms\n",
            "Mejor fitness: 0.9435992162366065, Tiempo total: 15126ms, Tiempo mejor Fitness: 13203ms\n",
            "Mejor fitness: 0.945453520872368, Tiempo total: 15734ms, Tiempo mejor Fitness: 14278ms\n",
            "Mejor fitness: 0.9428045142498513, Tiempo total: 15281ms, Tiempo mejor Fitness: 7891ms\n",
            "Mejor fitness: 0.9443939182233614, Tiempo total: 15026ms, Tiempo mejor Fitness: 11699ms\n",
            "Mejor fitness: 0.9428045142498513, Tiempo total: 15291ms, Tiempo mejor Fitness: 11968ms\n",
            "Mejor fitness: 0.9459833221968712, Tiempo total: 15213ms, Tiempo mejor Fitness: 13755ms\n",
            "Mejor fitness: 0.9441290175611097, Tiempo total: 17144ms, Tiempo mejor Fitness: 14752ms\n",
            "Mejor fitness: 0.943864116898858, Tiempo total: 15200ms, Tiempo mejor Fitness: 14121ms\n",
            "Mejor fitness: 0.9406853089518381, Tiempo total: 15017ms, Tiempo mejor Fitness: 6052ms\n",
            "Mejor fitness: 0.945453520872368, Tiempo total: 15226ms, Tiempo mejor Fitness: 10702ms\n",
            "Mejor fitness: 0.9420098122630964, Tiempo total: 15487ms, Tiempo mejor Fitness: 11537ms\n"
          ]
        }
      ],
      "source": [
        "for i in range (30):\n",
        "  try:\n",
        "    CSA().execute(MLSVM())\n",
        "  except Exception as e:\n",
        "    print(f\"{e} \\nCaused by {e.args}\")\n"
      ]
    }
  ]
}