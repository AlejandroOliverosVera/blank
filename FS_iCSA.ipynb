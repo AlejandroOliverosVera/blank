{
  "nbformat": 4,
  "nbformat_minor": 0,
  "metadata": {
    "colab": {
      "provenance": [],
      "include_colab_link": true
    },
    "kernelspec": {
      "name": "python3",
      "display_name": "Python 3"
    },
    "language_info": {
      "name": "python"
    }
  },
  "cells": [
    {
      "cell_type": "markdown",
      "metadata": {
        "id": "view-in-github",
        "colab_type": "text"
      },
      "source": [
        "<a href=\"https://colab.research.google.com/github/AlejandroOliverosVera/blank/blob/main/FS_iCSA.ipynb\" target=\"_parent\"><img src=\"https://colab.research.google.com/assets/colab-badge.svg\" alt=\"Open In Colab\"/></a>"
      ]
    },
    {
      "cell_type": "code",
      "source": [
        "from google.colab import drive\n",
        "drive.mount('/content/drive')"
      ],
      "metadata": {
        "id": "V2h1kRyboiLm",
        "colab": {
          "base_uri": "https://localhost:8080/"
        },
        "outputId": "4562607f-04b4-4381-db6e-e3ae9337c0da"
      },
      "execution_count": 36,
      "outputs": [
        {
          "output_type": "stream",
          "name": "stdout",
          "text": [
            "Drive already mounted at /content/drive; to attempt to forcibly remount, call drive.mount(\"/content/drive\", force_remount=True).\n"
          ]
        }
      ]
    },
    {
      "cell_type": "code",
      "source": [
        "import random as rnd\n",
        "import math\n",
        "import numpy as np\n",
        "import pandas as pd\n",
        "from sklearn.metrics import f1_score\n",
        "from sklearn.model_selection import train_test_split\n",
        "from sklearn.preprocessing import StandardScaler\n",
        "from sklearn.svm import SVC\n",
        "from sklearn.metrics import accuracy_score, f1_score\n",
        "from sklearn.decomposition import PCA\n",
        "import sklearn.gaussian_process as gp\n",
        "import tensorflow as tf\n",
        "import time as tm"
      ],
      "metadata": {
        "id": "Zvc9s9ssoTFB"
      },
      "execution_count": 37,
      "outputs": []
    },
    {
      "cell_type": "code",
      "source": [
        "class ML:\n",
        "  def __init__(self):\n",
        "    # Leer el archivo CSV\n",
        "    self.data = pd.read_csv('/content/drive/MyDrive/data.csv', header = 0)\n",
        "\n",
        "  def load_data(self, selected_features):\n",
        "    # Usa las caracteristicas dadas por la MH\n",
        "    all_features = list(self.data.columns)\n",
        "    selected_column_names = [all_features[i] for i in range(len(selected_features)) if selected_features[i] == 1]\n",
        "    return self.data[selected_column_names].values, self.data.iloc[:, -1].values.astype(float)\n"
      ],
      "metadata": {
        "id": "b4qKir6lokpE"
      },
      "execution_count": 38,
      "outputs": []
    },
    {
      "cell_type": "code",
      "source": [
        "class MLSVM(ML):\n",
        "  def train(self, selected_features):\n",
        "    X, y = self.load_data(selected_features)\n",
        "\n",
        "    # Dividir el conjunto de datos en conjuntos de entrenamiento y prueba\n",
        "    X_train, X_test, y_train, y_test = train_test_split(X, y, test_size = 0.2, random_state = 42)\n",
        "\n",
        "    # Normalizar características\n",
        "    scaler = StandardScaler()\n",
        "    X_train = scaler.fit_transform(X_train)\n",
        "    X_test = scaler.transform(X_test)\n",
        "\n",
        "    # Entrenar un clasificador SVM\n",
        "    svm = SVC()\n",
        "    svm.fit(X_train, y_train)\n",
        "\n",
        "    # Realizar predicciones en el conjunto de prueba\n",
        "    y_pred = svm.predict(X_test)\n",
        "\n",
        "    # Calcular las métricas de evaluación\n",
        "    accuracy = accuracy_score(y_test, y_pred)\n",
        "    f1 = f1_score(y_test, y_pred, average = 'weighted')\n",
        "\n",
        "    return [accuracy, f1]"
      ],
      "metadata": {
        "id": "hJg8JY3fpBof"
      },
      "execution_count": 39,
      "outputs": []
    },
    {
      "cell_type": "code",
      "source": [
        "class Crow:\n",
        "  def __init__(self):\n",
        "    self.dimension = 755 ## Depende del DSet\n",
        "    self.position = []\n",
        "    self.metrics = [0,0]\n",
        "    self.pBest = []\n",
        "    self.fBest = 0.0\n",
        "    for j in range(self.dimension):\n",
        "      self.position.append(rnd.randint(0,1))\n",
        "\n",
        "  def countCols(self):\n",
        "    sum = 0\n",
        "    for j in range(self.dimension):\n",
        "        sum += self.position[j]\n",
        "    return sum\n",
        "\n",
        "  def train(self, ml):\n",
        "    self.metrics = ml.train(self.position)\n",
        "\n",
        "  def is_better_than_pbest(self):\n",
        "    if self.fitness() > self.fBest:\n",
        "        self.fBest = self.fitness()\n",
        "        return True\n",
        "    else:\n",
        "        return False\n",
        "\n",
        "  def update_pbest(self):\n",
        "        self.pBest = self.position[:]\n",
        "\n",
        "  def isBetterThan(self, gBest):\n",
        "    return self.fitness() > gBest.fBest\n",
        "\n",
        "  def move(self, followed_crow: \"Crow\", AP: float, flight_length: float):\n",
        "    for j in range(self.dimension):\n",
        "      if rnd.uniform(0, 1) >= AP:\n",
        "        self.position[j] = int(self.position[j] + rnd.uniform(0, 1) * flight_length * (followed_crow.pBest[j] - self.position[j]))\n",
        "      else:\n",
        "        self.position[j] = rnd.randint(0, 1)\n",
        "\n",
        "  def fitness(self):\n",
        "    z1 = self.metrics[0] # maximizar f1 score -> [0: malo, 1: bueno]\n",
        "    z2 = self.metrics[1] # maximizar acc -> [0: malo, 1: bueno]\n",
        "    z3 = self.countCols() / self.dimension # minimizar cantidad de columnas que se usan -> [0: bueno, 1: malo]\n",
        "    return z1 * 0.4 + z2 * 0.4 - z3 * 0.2 + 0.2\n",
        "\n",
        "  def copy(self, other: \"Crow\"):\n",
        "    self.position = other.position.copy()\n",
        "    self.fBest = other.fBest\n",
        "\n",
        "  #def toBinary(self, x):\n",
        "    #return 1 if rnd.uniform(0, 1) <= 1 / (1 + math.exp(-x)) else 0\n"
      ],
      "metadata": {
        "id": "LgIdYTn9pN04"
      },
      "execution_count": 40,
      "outputs": []
    },
    {
      "cell_type": "code",
      "source": [
        "class CSA:\n",
        "  def __init__(self):\n",
        "    self.T = 50 #iterMax\n",
        "    self.nCrows = 50 #flock size\n",
        "    self.AP = 0.5\n",
        "    self.flightLenght = 0.75\n",
        "    self.swarm = [] # array of Crow objects\n",
        "    self.gCrow = Crow() #Aquí se guarda el mejor cuervo\n",
        "    self.rnd = rnd\n",
        "    self.sTime = None\n",
        "    self.eTime = None\n",
        "    self.bTime = None\n",
        "\n",
        "  def execute(self, ml):\n",
        "    self.startTime()\n",
        "    self.init(ml)\n",
        "    self.run(ml)\n",
        "    self.endTime()\n",
        "    self.log()\n",
        "\n",
        "  def startTime(self):\n",
        "    self.sTime = int(round(tm.time() * 1000))\n",
        "\n",
        "  def init(self, ml):\n",
        "    for i in range(self.nCrows):\n",
        "      self.swarm.append(Crow())\n",
        "      self.swarm[i].train(ml)\n",
        "    self.gCrow.copy(self.swarm[0])\n",
        "    for i in range(1, self.nCrows):\n",
        "      if self.swarm[i].isBetterThan(self.gCrow):\n",
        "        self.gCrow.copy(self.swarm[i])\n",
        "\n",
        "  def run(self, ml):\n",
        "    t = 1\n",
        "    while t <= self.T:\n",
        "      for i in range(self.nCrows):\n",
        "        if self.swarm[i].is_better_than_pbest():\n",
        "            self.swarm[i].update_pbest()\n",
        "        if self.swarm[i].isBetterThan(self.gCrow):\n",
        "            self.gCrow.copy(self.swarm[i])\n",
        "            self.bTime = int(round(tm.time() * 1000))\n",
        "      for i in range(self.nCrows):\n",
        "        followedCrow = self.swarm[self.rnd.randint(0, self.nCrows - 1)]\n",
        "        self.swarm[i].move(followedCrow, self.AP, self.flightLenght)\n",
        "        self.swarm[i].train(ml)\n",
        "      t += 1\n",
        "\n",
        "  def endTime(self):\n",
        "    self.eTime = int(round(tm.time() * 1000))\n",
        "\n",
        "  def log(self):\n",
        "    print(f\"Mejor fitness: {self.gCrow.fBest}, Tiempo total: {self.eTime - self.sTime}ms, Tiempo mejor Fitness: {self.bTime - self.sTime}ms\")\n"
      ],
      "metadata": {
        "id": "oWpur0xjY84g"
      },
      "execution_count": 41,
      "outputs": []
    },
    {
      "cell_type": "code",
      "execution_count": 42,
      "metadata": {
        "id": "yd5I1-D-F8nV",
        "colab": {
          "base_uri": "https://localhost:8080/"
        },
        "outputId": "d0e0a8cc-4362-4763-ccb5-0f47c4709e69"
      },
      "outputs": [
        {
          "output_type": "stream",
          "name": "stdout",
          "text": [
            "Mejor fitness: 0.9459833221968712, Tiempo total: 158316ms, Tiempo mejor Fitness: 75747ms\n",
            "Mejor fitness: 0.9462482228591229, Tiempo total: 159203ms, Tiempo mejor Fitness: 113575ms\n",
            "Mejor fitness: 0.9496919314683945, Tiempo total: 158323ms, Tiempo mejor Fitness: 130944ms\n",
            "Mejor fitness: 0.9462482228591229, Tiempo total: 156463ms, Tiempo mejor Fitness: 63363ms\n",
            "Mejor fitness: 0.9465131235213746, Tiempo total: 157269ms, Tiempo mejor Fitness: 112168ms\n",
            "Mejor fitness: 0.9475727261703812, Tiempo total: 158800ms, Tiempo mejor Fitness: 69915ms\n",
            "Mejor fitness: 0.9465131235213746, Tiempo total: 159088ms, Tiempo mejor Fitness: 149295ms\n",
            "Mejor fitness: 0.945453520872368, Tiempo total: 156990ms, Tiempo mejor Fitness: 99296ms\n",
            "Mejor fitness: 0.9451886202101163, Tiempo total: 158049ms, Tiempo mejor Fitness: 137586ms\n",
            "Mejor fitness: 0.9465131235213746, Tiempo total: 159790ms, Tiempo mejor Fitness: 135131ms\n",
            "Mejor fitness: 0.9483674281571361, Tiempo total: 157908ms, Tiempo mejor Fitness: 67508ms\n",
            "Mejor fitness: 0.9449237195478646, Tiempo total: 159791ms, Tiempo mejor Fitness: 103783ms\n",
            "Mejor fitness: 0.9494270308061428, Tiempo total: 158806ms, Tiempo mejor Fitness: 53877ms\n",
            "Mejor fitness: 0.9465131235213746, Tiempo total: 155989ms, Tiempo mejor Fitness: 113674ms\n",
            "Mejor fitness: 0.9462482228591229, Tiempo total: 158671ms, Tiempo mejor Fitness: 125727ms\n",
            "Mejor fitness: 0.9446588188856131, Tiempo total: 160269ms, Tiempo mejor Fitness: 58215ms\n",
            "Mejor fitness: 0.9457184215346197, Tiempo total: 159241ms, Tiempo mejor Fitness: 73064ms\n",
            "Mejor fitness: 0.9446588188856131, Tiempo total: 159372ms, Tiempo mejor Fitness: 88350ms\n",
            "Mejor fitness: 0.9465131235213746, Tiempo total: 160082ms, Tiempo mejor Fitness: 82338ms\n",
            "Mejor fitness: 0.9459833221968712, Tiempo total: 160363ms, Tiempo mejor Fitness: 124856ms\n",
            "Mejor fitness: 0.9475727261703812, Tiempo total: 158255ms, Tiempo mejor Fitness: 106793ms\n",
            "Mejor fitness: 0.9462482228591229, Tiempo total: 159936ms, Tiempo mejor Fitness: 144515ms\n",
            "Mejor fitness: 0.9465131235213746, Tiempo total: 161364ms, Tiempo mejor Fitness: 158597ms\n",
            "Mejor fitness: 0.9446588188856131, Tiempo total: 160458ms, Tiempo mejor Fitness: 80609ms\n",
            "Mejor fitness: 0.9457184215346197, Tiempo total: 158690ms, Tiempo mejor Fitness: 42456ms\n",
            "Mejor fitness: 0.9462482228591229, Tiempo total: 161487ms, Tiempo mejor Fitness: 45776ms\n",
            "Mejor fitness: 0.9462482228591229, Tiempo total: 158405ms, Tiempo mejor Fitness: 110167ms\n",
            "Mejor fitness: 0.9481025274948847, Tiempo total: 157678ms, Tiempo mejor Fitness: 114704ms\n",
            "Mejor fitness: 0.9457184215346197, Tiempo total: 158268ms, Tiempo mejor Fitness: 142897ms\n",
            "Mejor fitness: 0.947837626832633, Tiempo total: 157925ms, Tiempo mejor Fitness: 84761ms\n"
          ]
        }
      ],
      "source": [
        "for i in range (30):\n",
        "  try:\n",
        "    CSA().execute(MLSVM())\n",
        "  except Exception as e:\n",
        "    print(f\"{e} \\nCaused by {e.args}\")\n"
      ]
    }
  ]
}