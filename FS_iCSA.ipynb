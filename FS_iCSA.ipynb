{
  "nbformat": 4,
  "nbformat_minor": 0,
  "metadata": {
    "colab": {
      "provenance": [],
      "include_colab_link": true
    },
    "kernelspec": {
      "name": "python3",
      "display_name": "Python 3"
    },
    "language_info": {
      "name": "python"
    }
  },
  "cells": [
    {
      "cell_type": "markdown",
      "metadata": {
        "id": "view-in-github",
        "colab_type": "text"
      },
      "source": [
        "<a href=\"https://colab.research.google.com/github/AlejandroOliverosVera/blank/blob/main/FS_iCSA.ipynb\" target=\"_parent\"><img src=\"https://colab.research.google.com/assets/colab-badge.svg\" alt=\"Open In Colab\"/></a>"
      ]
    },
    {
      "cell_type": "code",
      "source": [
        "from google.colab import drive\n",
        "drive.mount('/content/drive')"
      ],
      "metadata": {
        "id": "V2h1kRyboiLm",
        "colab": {
          "base_uri": "https://localhost:8080/"
        },
        "outputId": "6148ffde-0b56-42b6-efd1-f2731207dd5a"
      },
      "execution_count": null,
      "outputs": [
        {
          "output_type": "stream",
          "name": "stdout",
          "text": [
            "Drive already mounted at /content/drive; to attempt to forcibly remount, call drive.mount(\"/content/drive\", force_remount=True).\n"
          ]
        }
      ]
    },
    {
      "cell_type": "code",
      "source": [
        "import random as rnd\n",
        "import math\n",
        "import numpy as np\n",
        "import pandas as pd\n",
        "from sklearn.metrics import f1_score\n",
        "from sklearn.model_selection import train_test_split\n",
        "from sklearn.preprocessing import StandardScaler\n",
        "from sklearn.svm import SVC\n",
        "from sklearn.metrics import accuracy_score, f1_score\n",
        "from sklearn.decomposition import PCA\n",
        "import sklearn.gaussian_process as gp\n",
        "import tensorflow as tf\n",
        "import time as tm"
      ],
      "metadata": {
        "id": "Zvc9s9ssoTFB"
      },
      "execution_count": null,
      "outputs": []
    },
    {
      "cell_type": "code",
      "source": [
        "class ML:\n",
        "  def __init__(self):\n",
        "    # Leer el archivo CSV\n",
        "    self.data = pd.read_csv('/content/drive/MyDrive/data.csv', header = 0)\n",
        "\n",
        "  def load_data(self, selected_features):\n",
        "    # Usa las caracteristicas dadas por la MH\n",
        "    all_features = list(self.data.columns)\n",
        "    selected_column_names = [all_features[i] for i in range(len(selected_features)) if selected_features[i] == 1]\n",
        "    return self.data[selected_column_names].values, self.data.iloc[:, -1].values.astype(float)\n"
      ],
      "metadata": {
        "id": "b4qKir6lokpE"
      },
      "execution_count": null,
      "outputs": []
    },
    {
      "cell_type": "code",
      "source": [
        "class MLSVM(ML):\n",
        "  def train(self, selected_features):\n",
        "    X, y = self.load_data(selected_features)\n",
        "\n",
        "    # Dividir el conjunto de datos en conjuntos de entrenamiento y prueba\n",
        "    X_train, X_test, y_train, y_test = train_test_split(X, y, test_size = 0.2, random_state = 42)\n",
        "\n",
        "    # Normalizar características\n",
        "    scaler = StandardScaler()\n",
        "    X_train = scaler.fit_transform(X_train)\n",
        "    X_test = scaler.transform(X_test)\n",
        "\n",
        "    # Entrenar un clasificador SVM\n",
        "    svm = SVC()\n",
        "    svm.fit(X_train, y_train)\n",
        "\n",
        "    # Realizar predicciones en el conjunto de prueba\n",
        "    y_pred = svm.predict(X_test)\n",
        "\n",
        "    # Calcular las métricas de evaluación\n",
        "    accuracy = accuracy_score(y_test, y_pred)\n",
        "    f1 = f1_score(y_test, y_pred, average = 'weighted')\n",
        "\n",
        "    return [accuracy, f1]"
      ],
      "metadata": {
        "id": "hJg8JY3fpBof"
      },
      "execution_count": null,
      "outputs": []
    },
    {
      "cell_type": "code",
      "source": [
        "class Crow:\n",
        "  def __init__(self):\n",
        "    self.dimension = 755 ## Depende del DSet\n",
        "    self.position = []\n",
        "    self.metrics = [0,0]\n",
        "    self.pBest = []\n",
        "    self.fBest = 0.0\n",
        "    for j in range(self.dimension):\n",
        "      self.position.append( )\n",
        "\n",
        "  def countCols(self):\n",
        "    sum = 0\n",
        "    for j in range(self.dimension):\n",
        "        sum += self.position[j]\n",
        "    return sum\n",
        "\n",
        "  def train(self, ml):\n",
        "    self.metrics = ml.train(self.position)\n",
        "\n",
        "  def is_better_than_pbest(self):\n",
        "    if self.fitness() > self.fBest:\n",
        "        self.fBest = self.fitness()\n",
        "        return True\n",
        "    else:\n",
        "        return False\n",
        "\n",
        "  def update_pbest(self):\n",
        "        self.pBest = self.position[:]\n",
        "\n",
        "  def isBetterThan(self, gBest):\n",
        "    return self.fitness() > gBest.fitness()\n",
        "\n",
        "  def move(self, followed_crow: \"Crow\", AP: float, flight_length: float):\n",
        "    for j in range(self.dimension):\n",
        "      if rnd.uniform(0, 1) >= AP:\n",
        "        self.position[j] = int(self.position[j] + rnd.uniform(0, 1) * flight_length * (followed_crow.pBest[j] - self.position[j]))\n",
        "      else:\n",
        "        self.position[j] = rnd.randint(0, 1)\n",
        "\n",
        "  def fitness(self):\n",
        "    z1 = self.metrics[0] # maximizar f1 score -> [0: malo, 1: bueno]\n",
        "    z2 = self.metrics[1] # maximizar acc -> [0: malo, 1: bueno]\n",
        "    z3 = self.countCols() / self.dimension # minimizar cantidad de columnas que se usan -> [0: bueno, 1: malo]\n",
        "    return z1 * 0.4 + z2 * 0.4 - z3 * 0.2 + 0.2\n",
        "\n",
        "  def copy(self, other: \"Crow\"):\n",
        "    self.position = other.position.copy()\n",
        "    self.fBest = other.fBest\n",
        "\n",
        "  #def toBinary(self, x):\n",
        "    #return 1 if rnd.uniform(0, 1) <= 1 / (1 + math.exp(-x)) else 0\n"
      ],
      "metadata": {
        "id": "LgIdYTn9pN04"
      },
      "execution_count": null,
      "outputs": []
    },
    {
      "cell_type": "code",
      "source": [
        "class CSA:\n",
        "  def __init__(self):\n",
        "    self.T = 50 #iterMax\n",
        "    self.nCrows = 50 #flock size\n",
        "    self.AP = 0.5\n",
        "    self.flightLenght = 0.75\n",
        "    self.swarm = [] # array of Crow objects\n",
        "    self.gCrow = Crow() #Aquí se guarda el mejor cuervo\n",
        "    self.rnd = rnd\n",
        "    self.sTime = None\n",
        "    self.eTime = None\n",
        "\n",
        "  def execute(self, ml):\n",
        "    self.startTime()\n",
        "    self.init(ml)\n",
        "    self.run(ml)\n",
        "    self.endTime()\n",
        "    self.log()\n",
        "\n",
        "  def startTime(self):\n",
        "    self.sTime = int(round(tm.time() * 1000))\n",
        "\n",
        "  def init(self, ml):\n",
        "    for i in range(self.nCrows):\n",
        "      self.swarm.append(Crow())\n",
        "      self.swarm[i].train(ml)\n",
        "    self.gCrow.copy(self.swarm[0])\n",
        "    for i in range(1, self.nCrows):\n",
        "      if self.swarm[i].isBetterThan(self.gCrow):\n",
        "        self.gCrow.copy(self.swarm[i])\n",
        "\n",
        "  def run(self, ml):\n",
        "    t = 1\n",
        "    while t <= self.T:\n",
        "      for i in range(self.nCrows):\n",
        "        if self.swarm[i].is_better_than_pbest():\n",
        "            self.swarm[i].update_pbest()\n",
        "        if self.swarm[i].isBetterThan(self.gCrow):\n",
        "            self.gCrow.copy(self.swarm[i])\n",
        "      for i in range(self.nCrows):\n",
        "        followedCrow = self.swarm[self.rnd.randint(0, self.nCrows - 1)]\n",
        "        self.swarm[i].move(followedCrow, self.AP, self.flightLenght)\n",
        "        self.swarm[i].train(ml)\n",
        "      t += 1\n",
        "\n",
        "  def endTime(self):\n",
        "    self.eTime = int(round(tm.time() * 1000))\n",
        "\n",
        "  def log(self):\n",
        "    print(f\"Mejor fitness: {self.gCrow.fBest}, Tiempo total: {self.eTime - self.sTime}ms\")\n"
      ],
      "metadata": {
        "id": "oWpur0xjY84g"
      },
      "execution_count": null,
      "outputs": []
    },
    {
      "cell_type": "code",
      "execution_count": null,
      "metadata": {
        "id": "yd5I1-D-F8nV",
        "colab": {
          "base_uri": "https://localhost:8080/"
        },
        "outputId": "a474d03e-559d-400d-d82f-965b1c7efa5c"
      },
      "outputs": [
        {
          "output_type": "stream",
          "name": "stdout",
          "text": [
            "Mejor fitness: 0.9406853089518381, Tiempo total: 91713ms\n"
          ]
        }
      ],
      "source": [
        "try:\n",
        "  CSA().execute(MLSVM())\n",
        "except Exception as e:\n",
        "  print(f\"{e} \\nCaused by {e.args}\")\n"
      ]
    }
  ]
}